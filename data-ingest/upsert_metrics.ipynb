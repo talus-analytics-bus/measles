{
 "cells": [
  {
   "cell_type": "code",
   "execution_count": 1,
   "metadata": {},
   "outputs": [],
   "source": [
    "data_dir = 'C:/Users/haile/Documents/GitHub/measles/data-ingest/inputs-measles/'\n",
    "data_file = 'WHO Measles Caseload - July.xlsx'\n",
    "metric_sheet = 'WEB'\n",
    "\n",
    "metric_id = 6\n",
    "data_source = 'WHO Measles Surveillance Data'\n",
    "\n",
    "# database to use... metric for prod, metric_test for test\n",
    "db_name = 'metric'\n",
    "#db_name = 'metric_test'"
   ]
  },
  {
   "cell_type": "code",
   "execution_count": null,
   "metadata": {},
   "outputs": [],
   "source": [
    "# put a list of keys we want to exclude from the metric upload, based on values \n",
    "# in the observation table (so we need place ids and dt_ids if using those)\n",
    "# e.g.\n",
    "# to exclude everything for Venezuela\n",
    "# {'place_id': 244}\n",
    "# \n",
    "# to exclude these two periods for Samoa\n",
    "# {'place_id': 251, 'datetime_id': [14550, 14519]}\n",
    "# \n",
    "# to exclude everything after Jan 2020 (since we don't have data yet)\n",
    "# you can add a single value or a list of values to any key\n",
    "# {'datetime_id': 14580}\n",
    "\n",
    "exclusion_list = [\n",
    "    {'place_id': 244},\n",
    "    {'place_id': 251, 'datetime_id': [14550, 14519, 14580, 14611]},\n",
    "    {'place_id': 48, 'datetime_id': [14277, 14305, 14336, 14366, 14397, 14427, 14458, 14489, 14519, 14550, 14580, 14611, 14642, 14671, 14702, 14732, 14763, 14793]},\n",
    "    {'datetime_id': [14824, 14855, 14885, 14916, 14946]}\n",
    "]"
   ]
  },
  {
   "cell_type": "code",
   "execution_count": null,
   "metadata": {},
   "outputs": [],
   "source": [
    "import pandas as pd\n",
    "import datetime\n",
    "import json"
   ]
  },
  {
   "cell_type": "code",
   "execution_count": 4,
   "metadata": {},
   "outputs": [],
   "source": [
    "from psycopg2.sql import SQL, Identifier, Placeholder\n",
    "from psycopg2.extras import execute_batch\n",
    "\n",
    "import psycopg2\n",
    "\n",
    "from sqlalchemy import create_engine"
   ]
  },
  {
   "cell_type": "code",
   "execution_count": 5,
   "metadata": {},
   "outputs": [],
   "source": [
    "from modules.connect import get_secret"
   ]
  },
  {
   "cell_type": "code",
   "execution_count": 6,
   "metadata": {},
   "outputs": [],
   "source": [
    "def exclude(df, exclusion_list):\n",
    "    for exclusion in exclusion_list:\n",
    "        \n",
    "        mask_list = []\n",
    "\n",
    "        for key, value in exclusion.items():\n",
    "            if type(value) is list:\n",
    "                mask = (df[key].isin(value))\n",
    "            else:\n",
    "                mask = (df[key] == value)\n",
    "            \n",
    "            mask_list.append(mask)\n",
    "        \n",
    "        final_mask = mask_list[0]\n",
    "\n",
    "        # if there are multiple conditions (e.g. time and place)\n",
    "        # then the rows we want to exclude are only those that meet\n",
    "        # all the conditions, so run through the masks and only\n",
    "        # 'keep' the rows where the condition is true all the time\n",
    "        # ('keep' because we'll invert the mask and actually exclude them)\n",
    "        if len(mask_list) > 1:\n",
    "            for mask in mask_list[1:]:\n",
    "                final_mask = final_mask & mask\n",
    "        \n",
    "        old_len = df.shape[0]\n",
    "        df = df[~final_mask]\n",
    "        \n",
    "        print(f\"Went from {old_len} to {df.shape[0]} rows, excluded {old_len - df.shape[0]} rows\")\n",
    "        \n",
    "    return(df)"
   ]
  },
  {
   "cell_type": "code",
   "execution_count": 7,
   "metadata": {},
   "outputs": [
    {
     "name": "stdout",
     "output_type": "stream",
     "text": [
      "{'ARN': 'arn:aws:secretsmanager:us-west-1:560812044035:secret:talus_dev_rds_secret-okfjje', 'Name': 'talus_dev_rds_secret', 'VersionId': 'a04e03e6-cba7-467d-9a37-e2918e4d897f', 'SecretString': '{\"username\":\"talus\",\"password\":\"UKwwGaH5X8q688K4\",\"engine\":\"postgres\",\"host\":\"talus-dev.cvsrrvlopzxr.us-west-1.rds.amazonaws.com\",\"port\":5432,\"dbname\":\"vaccines\",\"dbInstanceIdentifier\":\"talus-dev\",\"jwtSecretKey\":\"Wh;~e49[[BERw]bY\"}', 'VersionStages': ['AWSCURRENT'], 'CreatedDate': datetime.datetime(2020, 3, 16, 15, 10, 47, 534000, tzinfo=tzlocal()), 'ResponseMetadata': {'RequestId': 'da066858-3969-4c53-8cb3-fb7e708b4290', 'HTTPStatusCode': 200, 'HTTPHeaders': {'date': 'Mon, 17 Aug 2020 23:51:42 GMT', 'content-type': 'application/x-amz-json-1.1', 'content-length': '512', 'connection': 'keep-alive', 'x-amzn-requestid': 'da066858-3969-4c53-8cb3-fb7e708b4290'}, 'RetryAttempts': 0}}\n"
     ]
    }
   ],
   "source": [
    "rds_secret = json.loads(get_secret())"
   ]
  },
  {
   "cell_type": "code",
   "execution_count": 8,
   "metadata": {},
   "outputs": [],
   "source": [
    "def get_table(schema, table, engine):\n",
    "    q_str = f\"SELECT * FROM {schema}.{table}\"\n",
    "    return pd.read_sql(q_str, engine)"
   ]
  },
  {
   "cell_type": "code",
   "execution_count": 9,
   "metadata": {},
   "outputs": [],
   "source": [
    "conn_str = \"postgresql://{3}:{4}@{0}:{1}/{2}\".format(rds_secret['host'],\n",
    "                                                     '5432',\n",
    "                                                     db_name,\n",
    "                                                     rds_secret['username'],\n",
    "                                                     rds_secret['password'])\n",
    "\n",
    "engine = create_engine(conn_str)"
   ]
  },
  {
   "cell_type": "code",
   "execution_count": 10,
   "metadata": {},
   "outputs": [],
   "source": [
    "dt_df = get_table('public', 'datetime', engine)\n",
    "\n",
    "# dt_df = pd.DataFrame(dt_q, columns=['dt_id', 'day boolean', 'week_sunday', 'week_monday', 'month', 'year', 'dt'])\n",
    "\n",
    "dt_df = dt_df.loc[(dt_df.month), :]\n",
    "\n",
    "dt_df.loc[:, 'date'] = dt_df.dt.dt.date\n",
    "\n",
    "#dt_df.head()"
   ]
  },
  {
   "cell_type": "code",
   "execution_count": 11,
   "metadata": {},
   "outputs": [],
   "source": [
    "place_q = get_table('public', 'place', engine)\n",
    "\n",
    "place_df = pd.DataFrame(place_q, columns=['place_id', 'name', 'description', 'fips', 'iso',\n",
    "                                           'place_type', 'geom_type', 'poly_id', 'point_id',\n",
    "                                           'iso2', 'region_sdg', 'region'])\n",
    "\n",
    "#place_df.head()"
   ]
  },
  {
   "cell_type": "code",
   "execution_count": 12,
   "metadata": {},
   "outputs": [],
   "source": [
    "data = pd.read_excel(data_dir + data_file, sheet_name=metric_sheet)\n",
    "\n",
    "#data.head()"
   ]
  },
  {
   "cell_type": "code",
   "execution_count": 13,
   "metadata": {},
   "outputs": [],
   "source": [
    "data_place = data.set_index('ISO3').join(place_df.loc[:,['place_id', 'iso']].set_index('iso')).reset_index().rename(columns={'index': 'iso'})\n",
    "\n",
    "#data_place.head()"
   ]
  },
  {
   "cell_type": "code",
   "execution_count": 14,
   "metadata": {},
   "outputs": [
    {
     "data": {
      "text/html": [
       "<div>\n",
       "<style scoped>\n",
       "    .dataframe tbody tr th:only-of-type {\n",
       "        vertical-align: middle;\n",
       "    }\n",
       "\n",
       "    .dataframe tbody tr th {\n",
       "        vertical-align: top;\n",
       "    }\n",
       "\n",
       "    .dataframe thead th {\n",
       "        text-align: right;\n",
       "    }\n",
       "</style>\n",
       "<table border=\"1\" class=\"dataframe\">\n",
       "  <thead>\n",
       "    <tr style=\"text-align: right;\">\n",
       "      <th></th>\n",
       "      <th>iso</th>\n",
       "      <th>Region</th>\n",
       "      <th>Country</th>\n",
       "      <th>Year</th>\n",
       "      <th>January</th>\n",
       "      <th>February</th>\n",
       "      <th>March</th>\n",
       "      <th>April</th>\n",
       "      <th>May</th>\n",
       "      <th>June</th>\n",
       "      <th>July</th>\n",
       "      <th>August</th>\n",
       "      <th>September</th>\n",
       "      <th>October</th>\n",
       "      <th>November</th>\n",
       "      <th>December</th>\n",
       "      <th>place_id</th>\n",
       "    </tr>\n",
       "  </thead>\n",
       "  <tbody>\n",
       "    <tr>\n",
       "      <th>0</th>\n",
       "      <td>AFG</td>\n",
       "      <td>EMR</td>\n",
       "      <td>Afghanistan</td>\n",
       "      <td>2011</td>\n",
       "      <td>138.0</td>\n",
       "      <td>145.0</td>\n",
       "      <td>211.0</td>\n",
       "      <td>229.0</td>\n",
       "      <td>157.0</td>\n",
       "      <td>144.0</td>\n",
       "      <td>102.0</td>\n",
       "      <td>45.0</td>\n",
       "      <td>24.0</td>\n",
       "      <td>25.0</td>\n",
       "      <td>53.0</td>\n",
       "      <td>111.0</td>\n",
       "      <td>2</td>\n",
       "    </tr>\n",
       "    <tr>\n",
       "      <th>1</th>\n",
       "      <td>AFG</td>\n",
       "      <td>EMR</td>\n",
       "      <td>Afghanistan</td>\n",
       "      <td>2012</td>\n",
       "      <td>360.0</td>\n",
       "      <td>414.0</td>\n",
       "      <td>364.0</td>\n",
       "      <td>341.0</td>\n",
       "      <td>340.0</td>\n",
       "      <td>292.0</td>\n",
       "      <td>234.0</td>\n",
       "      <td>72.0</td>\n",
       "      <td>45.0</td>\n",
       "      <td>93.0</td>\n",
       "      <td>53.0</td>\n",
       "      <td>63.0</td>\n",
       "      <td>2</td>\n",
       "    </tr>\n",
       "    <tr>\n",
       "      <th>2</th>\n",
       "      <td>AFG</td>\n",
       "      <td>EMR</td>\n",
       "      <td>Afghanistan</td>\n",
       "      <td>2013</td>\n",
       "      <td>36.0</td>\n",
       "      <td>51.0</td>\n",
       "      <td>47.0</td>\n",
       "      <td>69.0</td>\n",
       "      <td>59.0</td>\n",
       "      <td>58.0</td>\n",
       "      <td>51.0</td>\n",
       "      <td>0.0</td>\n",
       "      <td>8.0</td>\n",
       "      <td>3.0</td>\n",
       "      <td>13.0</td>\n",
       "      <td>35.0</td>\n",
       "      <td>2</td>\n",
       "    </tr>\n",
       "    <tr>\n",
       "      <th>3</th>\n",
       "      <td>AFG</td>\n",
       "      <td>EMR</td>\n",
       "      <td>Afghanistan</td>\n",
       "      <td>2014</td>\n",
       "      <td>69.0</td>\n",
       "      <td>70.0</td>\n",
       "      <td>46.0</td>\n",
       "      <td>29.0</td>\n",
       "      <td>79.0</td>\n",
       "      <td>43.0</td>\n",
       "      <td>47.0</td>\n",
       "      <td>11.0</td>\n",
       "      <td>39.0</td>\n",
       "      <td>27.0</td>\n",
       "      <td>32.0</td>\n",
       "      <td>60.0</td>\n",
       "      <td>2</td>\n",
       "    </tr>\n",
       "    <tr>\n",
       "      <th>4</th>\n",
       "      <td>AFG</td>\n",
       "      <td>EMR</td>\n",
       "      <td>Afghanistan</td>\n",
       "      <td>2015</td>\n",
       "      <td>89.0</td>\n",
       "      <td>160.0</td>\n",
       "      <td>269.0</td>\n",
       "      <td>198.0</td>\n",
       "      <td>208.0</td>\n",
       "      <td>116.0</td>\n",
       "      <td>65.0</td>\n",
       "      <td>28.0</td>\n",
       "      <td>16.0</td>\n",
       "      <td>7.0</td>\n",
       "      <td>8.0</td>\n",
       "      <td>21.0</td>\n",
       "      <td>2</td>\n",
       "    </tr>\n",
       "  </tbody>\n",
       "</table>\n",
       "</div>"
      ],
      "text/plain": [
       "   iso Region      Country  Year  January  February  March  April    May  \\\n",
       "0  AFG    EMR  Afghanistan  2011    138.0     145.0  211.0  229.0  157.0   \n",
       "1  AFG    EMR  Afghanistan  2012    360.0     414.0  364.0  341.0  340.0   \n",
       "2  AFG    EMR  Afghanistan  2013     36.0      51.0   47.0   69.0   59.0   \n",
       "3  AFG    EMR  Afghanistan  2014     69.0      70.0   46.0   29.0   79.0   \n",
       "4  AFG    EMR  Afghanistan  2015     89.0     160.0  269.0  198.0  208.0   \n",
       "\n",
       "    June   July  August  September  October  November  December  place_id  \n",
       "0  144.0  102.0    45.0       24.0     25.0      53.0     111.0         2  \n",
       "1  292.0  234.0    72.0       45.0     93.0      53.0      63.0         2  \n",
       "2   58.0   51.0     0.0        8.0      3.0      13.0      35.0         2  \n",
       "3   43.0   47.0    11.0       39.0     27.0      32.0      60.0         2  \n",
       "4  116.0   65.0    28.0       16.0      7.0       8.0      21.0         2  "
      ]
     },
     "execution_count": 14,
     "metadata": {},
     "output_type": "execute_result"
    }
   ],
   "source": [
    "data_place.head()"
   ]
  },
  {
   "cell_type": "code",
   "execution_count": 15,
   "metadata": {},
   "outputs": [],
   "source": [
    "#data_place.loc[(data_place.iso == 'VEN'), :]"
   ]
  },
  {
   "cell_type": "code",
   "execution_count": 16,
   "metadata": {},
   "outputs": [],
   "source": [
    "date_cols = ['place_id', 'Year', 'January', 'February', 'March', 'April', 'May', 'June', 'July', 'August', 'September', 'October', 'November', 'December']\n",
    "\n",
    "monthly = data_place.loc[:, date_cols].set_index(['place_id', 'Year']).stack().reset_index()\n",
    "\n",
    "monthly.columns = ['place_id', 'year', 'month', 'value']\n",
    "\n",
    "#monthly.head()"
   ]
  },
  {
   "cell_type": "code",
   "execution_count": 17,
   "metadata": {},
   "outputs": [],
   "source": [
    "monthly.loc[:, 'date'] = monthly.apply(lambda x: datetime.datetime.strptime(f\"{x['month']} 1, {x['year']}\", \"%B 1, %Y\"), axis=1)\n",
    "\n",
    "#monthly.head()"
   ]
  },
  {
   "cell_type": "code",
   "execution_count": 18,
   "metadata": {},
   "outputs": [],
   "source": [
    "dated = monthly.set_index('date').join(dt_df.loc[:,['dt_id', 'date']].set_index('date')).reset_index(drop=True)"
   ]
  },
  {
   "cell_type": "code",
   "execution_count": 19,
   "metadata": {},
   "outputs": [],
   "source": [
    "dated.loc[:, 'updated_at'] = datetime.datetime(2020, 8, 17) #.date()\n",
    "\n",
    "dated.loc[:, 'metric_id'] = metric_id\n",
    "dated.loc[:, 'data_source'] = data_source\n",
    "\n",
    "dated = dated.loc[:, ['metric_id', 'value', 'updated_at', 'data_source', 'place_id', 'dt_id']].rename(columns= {'dt_id': 'datetime_id'})\n",
    "\n",
    "dated.loc[:, 'updated_at'] = dated['updated_at'].dt.strftime('%Y-%m-%d')"
   ]
  },
  {
   "cell_type": "code",
   "execution_count": 20,
   "metadata": {},
   "outputs": [
    {
     "data": {
      "text/html": [
       "<div>\n",
       "<style scoped>\n",
       "    .dataframe tbody tr th:only-of-type {\n",
       "        vertical-align: middle;\n",
       "    }\n",
       "\n",
       "    .dataframe tbody tr th {\n",
       "        vertical-align: top;\n",
       "    }\n",
       "\n",
       "    .dataframe thead th {\n",
       "        text-align: right;\n",
       "    }\n",
       "</style>\n",
       "<table border=\"1\" class=\"dataframe\">\n",
       "  <thead>\n",
       "    <tr style=\"text-align: right;\">\n",
       "      <th></th>\n",
       "      <th>metric_id</th>\n",
       "      <th>value</th>\n",
       "      <th>updated_at</th>\n",
       "      <th>data_source</th>\n",
       "      <th>place_id</th>\n",
       "      <th>datetime_id</th>\n",
       "    </tr>\n",
       "  </thead>\n",
       "  <tbody>\n",
       "    <tr>\n",
       "      <th>0</th>\n",
       "      <td>6</td>\n",
       "      <td>138.0</td>\n",
       "      <td>2020-08-17</td>\n",
       "      <td>WHO Measles Surveillance Data</td>\n",
       "      <td>2</td>\n",
       "      <td>11324</td>\n",
       "    </tr>\n",
       "    <tr>\n",
       "      <th>1</th>\n",
       "      <td>6</td>\n",
       "      <td>17.0</td>\n",
       "      <td>2020-08-17</td>\n",
       "      <td>WHO Measles Surveillance Data</td>\n",
       "      <td>3</td>\n",
       "      <td>11324</td>\n",
       "    </tr>\n",
       "    <tr>\n",
       "      <th>2</th>\n",
       "      <td>6</td>\n",
       "      <td>0.0</td>\n",
       "      <td>2020-08-17</td>\n",
       "      <td>WHO Measles Surveillance Data</td>\n",
       "      <td>5</td>\n",
       "      <td>11324</td>\n",
       "    </tr>\n",
       "    <tr>\n",
       "      <th>3</th>\n",
       "      <td>6</td>\n",
       "      <td>0.0</td>\n",
       "      <td>2020-08-17</td>\n",
       "      <td>WHO Measles Surveillance Data</td>\n",
       "      <td>7</td>\n",
       "      <td>11324</td>\n",
       "    </tr>\n",
       "    <tr>\n",
       "      <th>4</th>\n",
       "      <td>6</td>\n",
       "      <td>0.0</td>\n",
       "      <td>2020-08-17</td>\n",
       "      <td>WHO Measles Surveillance Data</td>\n",
       "      <td>8</td>\n",
       "      <td>11324</td>\n",
       "    </tr>\n",
       "  </tbody>\n",
       "</table>\n",
       "</div>"
      ],
      "text/plain": [
       "   metric_id  value  updated_at                    data_source  place_id  \\\n",
       "0          6  138.0  2020-08-17  WHO Measles Surveillance Data         2   \n",
       "1          6   17.0  2020-08-17  WHO Measles Surveillance Data         3   \n",
       "2          6    0.0  2020-08-17  WHO Measles Surveillance Data         5   \n",
       "3          6    0.0  2020-08-17  WHO Measles Surveillance Data         7   \n",
       "4          6    0.0  2020-08-17  WHO Measles Surveillance Data         8   \n",
       "\n",
       "   datetime_id  \n",
       "0        11324  \n",
       "1        11324  \n",
       "2        11324  \n",
       "3        11324  \n",
       "4        11324  "
      ]
     },
     "execution_count": 20,
     "metadata": {},
     "output_type": "execute_result"
    }
   ],
   "source": [
    "dated.head()"
   ]
  },
  {
   "cell_type": "code",
   "execution_count": 21,
   "metadata": {},
   "outputs": [
    {
     "name": "stdout",
     "output_type": "stream",
     "text": [
      "Went from 20656 to 20540 rows, excluded 116 rows\n",
      "Went from 20540 to 20537 rows, excluded 3 rows\n",
      "Went from 20537 to 20519 rows, excluded 18 rows\n",
      "Went from 20519 to 20347 rows, excluded 172 rows\n",
      "Went from 20656 to 20347 rows, excluded 309 rows\n"
     ]
    }
   ],
   "source": [
    "pre_excluded = dated.shape[0]\n",
    "dated_excluded = exclude(dated, exclusion_list)\n",
    "print(f\"Went from {pre_excluded} to {dated_excluded.shape[0]} rows, excluded {pre_excluded - dated_excluded.shape[0]} rows\")"
   ]
  },
  {
   "cell_type": "code",
   "execution_count": 22,
   "metadata": {},
   "outputs": [],
   "source": [
    "row_list = tuple(tuple(row) for row in dated_excluded.to_numpy())"
   ]
  },
  {
   "cell_type": "code",
   "execution_count": 23,
   "metadata": {},
   "outputs": [
    {
     "data": {
      "text/plain": [
       "((6, 138.0, '2020-08-17', 'WHO Measles Surveillance Data', 2, 11324),\n",
       " (6, 17.0, '2020-08-17', 'WHO Measles Surveillance Data', 3, 11324),\n",
       " (6, 0.0, '2020-08-17', 'WHO Measles Surveillance Data', 5, 11324),\n",
       " (6, 0.0, '2020-08-17', 'WHO Measles Surveillance Data', 7, 11324),\n",
       " (6, 0.0, '2020-08-17', 'WHO Measles Surveillance Data', 8, 11324))"
      ]
     },
     "execution_count": 23,
     "metadata": {},
     "output_type": "execute_result"
    }
   ],
   "source": [
    "row_list[0:5]"
   ]
  },
  {
   "cell_type": "code",
   "execution_count": 24,
   "metadata": {},
   "outputs": [
    {
     "data": {
      "text/plain": [
       "20347"
      ]
     },
     "execution_count": 24,
     "metadata": {},
     "output_type": "execute_result"
    }
   ],
   "source": [
    "len(row_list)"
   ]
  },
  {
   "cell_type": "code",
   "execution_count": 25,
   "metadata": {},
   "outputs": [],
   "source": [
    "test_q = \"\"\"\n",
    "INSERT INTO observation (\n",
    "    metric_id,\n",
    "    value,\n",
    "    updated_at,\n",
    "    data_source,\n",
    "    place_id,\n",
    "    datetime_id\n",
    ")\n",
    "VALUES (\n",
    "    %s,\n",
    "    %s,\n",
    "    %s,\n",
    "    %s,\n",
    "    %s,\n",
    "    %s\n",
    ")\n",
    "ON CONFLICT \n",
    "ON CONSTRAINT observation_metric_id_place_id_datetime_id_key\n",
    "DO UPDATE SET (value, updated_at) = (EXCLUDED.value, EXCLUDED.updated_at);\n",
    "\"\"\""
   ]
  },
  {
   "cell_type": "code",
   "execution_count": 26,
   "metadata": {},
   "outputs": [
    {
     "data": {
      "text/plain": [
       "'metric'"
      ]
     },
     "execution_count": 26,
     "metadata": {},
     "output_type": "execute_result"
    }
   ],
   "source": [
    "db_name"
   ]
  },
  {
   "cell_type": "code",
   "execution_count": 27,
   "metadata": {},
   "outputs": [
    {
     "data": {
      "text/plain": [
       "'talus-dev.cvsrrvlopzxr.us-west-1.rds.amazonaws.com'"
      ]
     },
     "execution_count": 27,
     "metadata": {},
     "output_type": "execute_result"
    }
   ],
   "source": [
    "rds_secret['host']"
   ]
  },
  {
   "cell_type": "code",
   "execution_count": 28,
   "metadata": {},
   "outputs": [],
   "source": [
    "# Open a cursor to perform database operations\n",
    "connection_string = f\"host={rds_secret['host']} dbname={db_name} user={rds_secret['username']} password={rds_secret['password']}\"\n",
    "\n",
    "conn = psycopg2.connect(connection_string)\n",
    "cur = conn.cursor()"
   ]
  },
  {
   "cell_type": "code",
   "execution_count": 29,
   "metadata": {},
   "outputs": [],
   "source": [
    "execute_batch(cur, test_q, row_list)"
   ]
  },
  {
   "cell_type": "code",
   "execution_count": 30,
   "metadata": {},
   "outputs": [],
   "source": [
    "conn.commit()"
   ]
  },
  {
   "cell_type": "code",
   "execution_count": null,
   "metadata": {},
   "outputs": [],
   "source": []
  }
 ],
 "metadata": {
  "kernelspec": {
   "display_name": "Python 3",
   "language": "python",
   "name": "python3"
  },
  "language_info": {
   "codemirror_mode": {
    "name": "ipython",
    "version": 3
   },
   "file_extension": ".py",
   "mimetype": "text/x-python",
   "name": "python",
   "nbconvert_exporter": "python",
   "pygments_lexer": "ipython3",
   "version": "3.8.5"
  }
 },
 "nbformat": 4,
 "nbformat_minor": 4
}
