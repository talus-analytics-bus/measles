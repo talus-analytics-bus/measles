{
 "cells": [
  {
   "cell_type": "code",
   "execution_count": 222,
   "metadata": {},
   "outputs": [],
   "source": [
    "data_dir = '/Users/kelseyrobb/Documents/GitHub/measles/data-ingest/inputs-covid/'\n",
    "data_file = 'daily_covid_counts-3-9.csv'\n",
    "\n",
    "metric_id = 25\n",
    "data_source = 'Johns Hopkins CSSE COVID-19 Data'\n",
    "\n",
    "# database to use... metric for prod, metric_test for test\n",
    "db_name = 'metric'\n",
    "#db_name = 'metric_test'"
   ]
  },
  {
   "cell_type": "code",
   "execution_count": 223,
   "metadata": {},
   "outputs": [],
   "source": [
    "# put a list of keys we want to exclude from the metric upload, based on values \n",
    "# in the observation table (so we need place ids and dt_ids if using those)\n",
    "# e.g.\n",
    "# to exclude everything for Venezuela\n",
    "# {'place_id': 244}\n",
    "# \n",
    "# to exclude these two periods for Samoa\n",
    "# {'place_id': 251, 'datetime_id': [14550, 14519]}\n",
    "# \n",
    "# to exclude everything after Jan 2020 (since we don't have data yet)\n",
    "# you can add a single value or a list of values to any key\n",
    "# {'datetime_id': 14580}\n",
    "\n",
    "exclusion_list = [\n",
    "    #{'place_id': 244},\n",
    "    #{'place_id': 251, 'datetime_id': [14550, 14519, 14580, 14611]},\n",
    "    #{'place_id': 48, 'datetime_id': [14277, 14305, 14336, 14366, 14397, 14427, 14458, 14489, 14519, 14550, 14580, 14611]},\n",
    "    #{'datetime_id': [14642, 14671, 14702, 14732, 14763, 14793, 14824, 14855, 14885, 14916, 14946]}\n",
    "]"
   ]
  },
  {
   "cell_type": "code",
   "execution_count": 224,
   "metadata": {},
   "outputs": [],
   "source": [
    "import pandas as pd\n",
    "import datetime\n",
    "import json"
   ]
  },
  {
   "cell_type": "code",
   "execution_count": 225,
   "metadata": {},
   "outputs": [],
   "source": [
    "from psycopg2.sql import SQL, Identifier, Placeholder\n",
    "from psycopg2.extras import execute_batch\n",
    "\n",
    "import psycopg2\n",
    "\n",
    "from sqlalchemy import create_engine"
   ]
  },
  {
   "cell_type": "code",
   "execution_count": 226,
   "metadata": {},
   "outputs": [],
   "source": [
    "from modules.connect import get_secret"
   ]
  },
  {
   "cell_type": "code",
   "execution_count": 227,
   "metadata": {},
   "outputs": [],
   "source": [
    "def exclude(df, exclusion_list):\n",
    "    for exclusion in exclusion_list:\n",
    "        \n",
    "        mask_list = []\n",
    "\n",
    "        for key, value in exclusion.items():\n",
    "            if type(value) is list:\n",
    "                mask = (df[key].isin(value))\n",
    "            else:\n",
    "                mask = (df[key] == value)\n",
    "            \n",
    "            mask_list.append(mask)\n",
    "        \n",
    "        final_mask = mask_list[0]\n",
    "\n",
    "        # if there are multiple conditions (e.g. time and place)\n",
    "        # then the rows we want to exclude are only those that meet\n",
    "        # all the conditions, so run through the masks and only\n",
    "        # 'keep' the rows where the condition is true all the time\n",
    "        # ('keep' because we'll invert the mask and actually exclude them)\n",
    "        if len(mask_list) > 1:\n",
    "            for mask in mask_list[1:]:\n",
    "                final_mask = final_mask & mask\n",
    "        \n",
    "        old_len = df.shape[0]\n",
    "        df = df[~final_mask]\n",
    "        \n",
    "        print(f\"Went from {old_len} to {df.shape[0]} rows, excluded {old_len - df.shape[0]} rows\")\n",
    "        \n",
    "    return(df)"
   ]
  },
  {
   "cell_type": "code",
   "execution_count": 228,
   "metadata": {},
   "outputs": [],
   "source": [
    "rds_secret = json.loads(get_secret())"
   ]
  },
  {
   "cell_type": "code",
   "execution_count": 229,
   "metadata": {},
   "outputs": [],
   "source": [
    "def get_table(schema, table, engine):\n",
    "    q_str = f\"SELECT * FROM {schema}.{table}\"\n",
    "    return pd.read_sql(q_str, engine)"
   ]
  },
  {
   "cell_type": "code",
   "execution_count": 230,
   "metadata": {},
   "outputs": [],
   "source": [
    "conn_str = \"postgresql://{3}:{4}@{0}:{1}/{2}\".format(rds_secret['host'],\n",
    "                                                     '5432',\n",
    "                                                     db_name,\n",
    "                                                     rds_secret['username'],\n",
    "                                                     rds_secret['password'])\n",
    "\n",
    "engine = create_engine(conn_str)"
   ]
  },
  {
   "cell_type": "code",
   "execution_count": 231,
   "metadata": {},
   "outputs": [],
   "source": [
    "dt_df = get_table('public', 'datetime', engine)\n",
    "\n",
    "# dt_df = pd.DataFrame(dt_q, columns=['dt_id', 'day boolean', 'week_sunday', 'week_monday', 'month', 'year', 'dt'])\n",
    "\n",
    "dt_df = dt_df.loc[(dt_df.day), :]\n",
    "\n",
    "dt_df.loc[:, 'date'] = dt_df.dt.dt.date\n",
    "\n",
    "#dt_df.head()"
   ]
  },
  {
   "cell_type": "code",
   "execution_count": 232,
   "metadata": {},
   "outputs": [],
   "source": [
    "place_q = get_table('public', 'place', engine)\n",
    "\n",
    "place_df = pd.DataFrame(place_q, columns=['place_id', 'name', 'description', 'fips', 'iso',\n",
    "                                           'place_type', 'geom_type', 'poly_id', 'point_id',\n",
    "                                           'iso2', 'region_sdg', 'region'])\n",
    "\n",
    "#place_df.head()"
   ]
  },
  {
   "cell_type": "code",
   "execution_count": 233,
   "metadata": {},
   "outputs": [],
   "source": [
    "data = pd.read_csv(data_dir + data_file)\n",
    "\n",
    "#data.head()"
   ]
  },
  {
   "cell_type": "code",
   "execution_count": 234,
   "metadata": {},
   "outputs": [],
   "source": [
    "data_place = data.set_index('Country/Region').join(place_df.loc[:,['place_id', 'name']].set_index('name')).reset_index().rename(columns={'index': 'name'})\n",
    "\n",
    "#data_place.head()"
   ]
  },
  {
   "cell_type": "code",
   "execution_count": 235,
   "metadata": {},
   "outputs": [
    {
     "data": {
      "text/html": [
       "<div>\n",
       "<style scoped>\n",
       "    .dataframe tbody tr th:only-of-type {\n",
       "        vertical-align: middle;\n",
       "    }\n",
       "\n",
       "    .dataframe tbody tr th {\n",
       "        vertical-align: top;\n",
       "    }\n",
       "\n",
       "    .dataframe thead th {\n",
       "        text-align: right;\n",
       "    }\n",
       "</style>\n",
       "<table border=\"1\" class=\"dataframe\">\n",
       "  <thead>\n",
       "    <tr style=\"text-align: right;\">\n",
       "      <th></th>\n",
       "      <th>name</th>\n",
       "      <th>Lat</th>\n",
       "      <th>Long</th>\n",
       "      <th>1/22/20</th>\n",
       "      <th>1/23/20</th>\n",
       "      <th>1/24/20</th>\n",
       "      <th>1/25/20</th>\n",
       "      <th>1/26/20</th>\n",
       "      <th>1/27/20</th>\n",
       "      <th>1/28/20</th>\n",
       "      <th>...</th>\n",
       "      <th>2/29/20</th>\n",
       "      <th>3/1/20</th>\n",
       "      <th>3/2/20</th>\n",
       "      <th>3/3/20</th>\n",
       "      <th>3/4/20</th>\n",
       "      <th>3/5/20</th>\n",
       "      <th>3/6/20</th>\n",
       "      <th>3/7/20</th>\n",
       "      <th>3/8/20</th>\n",
       "      <th>place_id</th>\n",
       "    </tr>\n",
       "  </thead>\n",
       "  <tbody>\n",
       "    <tr>\n",
       "      <td>0</td>\n",
       "      <td>Afghanistan</td>\n",
       "      <td>33.0000</td>\n",
       "      <td>65.0000</td>\n",
       "      <td>0</td>\n",
       "      <td>0</td>\n",
       "      <td>0</td>\n",
       "      <td>0</td>\n",
       "      <td>0</td>\n",
       "      <td>0</td>\n",
       "      <td>0</td>\n",
       "      <td>...</td>\n",
       "      <td>0</td>\n",
       "      <td>0</td>\n",
       "      <td>0</td>\n",
       "      <td>0</td>\n",
       "      <td>0</td>\n",
       "      <td>0</td>\n",
       "      <td>0</td>\n",
       "      <td>0</td>\n",
       "      <td>3</td>\n",
       "      <td>2</td>\n",
       "    </tr>\n",
       "    <tr>\n",
       "      <td>1</td>\n",
       "      <td>Alameda County</td>\n",
       "      <td>37.6017</td>\n",
       "      <td>-121.7195</td>\n",
       "      <td>0</td>\n",
       "      <td>0</td>\n",
       "      <td>0</td>\n",
       "      <td>0</td>\n",
       "      <td>0</td>\n",
       "      <td>0</td>\n",
       "      <td>0</td>\n",
       "      <td>...</td>\n",
       "      <td>0</td>\n",
       "      <td>0</td>\n",
       "      <td>0</td>\n",
       "      <td>1</td>\n",
       "      <td>0</td>\n",
       "      <td>0</td>\n",
       "      <td>0</td>\n",
       "      <td>1</td>\n",
       "      <td>0</td>\n",
       "      <td>425</td>\n",
       "    </tr>\n",
       "    <tr>\n",
       "      <td>2</td>\n",
       "      <td>Algeria</td>\n",
       "      <td>28.0339</td>\n",
       "      <td>1.6596</td>\n",
       "      <td>0</td>\n",
       "      <td>0</td>\n",
       "      <td>0</td>\n",
       "      <td>0</td>\n",
       "      <td>0</td>\n",
       "      <td>0</td>\n",
       "      <td>0</td>\n",
       "      <td>...</td>\n",
       "      <td>0</td>\n",
       "      <td>0</td>\n",
       "      <td>2</td>\n",
       "      <td>2</td>\n",
       "      <td>7</td>\n",
       "      <td>0</td>\n",
       "      <td>5</td>\n",
       "      <td>0</td>\n",
       "      <td>2</td>\n",
       "      <td>67</td>\n",
       "    </tr>\n",
       "    <tr>\n",
       "      <td>3</td>\n",
       "      <td>Andorra</td>\n",
       "      <td>42.5063</td>\n",
       "      <td>1.5218</td>\n",
       "      <td>0</td>\n",
       "      <td>0</td>\n",
       "      <td>0</td>\n",
       "      <td>0</td>\n",
       "      <td>0</td>\n",
       "      <td>0</td>\n",
       "      <td>0</td>\n",
       "      <td>...</td>\n",
       "      <td>0</td>\n",
       "      <td>0</td>\n",
       "      <td>1</td>\n",
       "      <td>0</td>\n",
       "      <td>0</td>\n",
       "      <td>0</td>\n",
       "      <td>0</td>\n",
       "      <td>0</td>\n",
       "      <td>0</td>\n",
       "      <td>7</td>\n",
       "    </tr>\n",
       "    <tr>\n",
       "      <td>4</td>\n",
       "      <td>Anhui</td>\n",
       "      <td>31.8257</td>\n",
       "      <td>117.2264</td>\n",
       "      <td>1</td>\n",
       "      <td>8</td>\n",
       "      <td>6</td>\n",
       "      <td>24</td>\n",
       "      <td>21</td>\n",
       "      <td>10</td>\n",
       "      <td>36</td>\n",
       "      <td>...</td>\n",
       "      <td>0</td>\n",
       "      <td>0</td>\n",
       "      <td>0</td>\n",
       "      <td>0</td>\n",
       "      <td>0</td>\n",
       "      <td>0</td>\n",
       "      <td>0</td>\n",
       "      <td>0</td>\n",
       "      <td>0</td>\n",
       "      <td>316</td>\n",
       "    </tr>\n",
       "  </tbody>\n",
       "</table>\n",
       "<p>5 rows × 51 columns</p>\n",
       "</div>"
      ],
      "text/plain": [
       "             name      Lat      Long  1/22/20  1/23/20  1/24/20  1/25/20  \\\n",
       "0     Afghanistan  33.0000   65.0000        0        0        0        0   \n",
       "1  Alameda County  37.6017 -121.7195        0        0        0        0   \n",
       "2         Algeria  28.0339    1.6596        0        0        0        0   \n",
       "3         Andorra  42.5063    1.5218        0        0        0        0   \n",
       "4           Anhui  31.8257  117.2264        1        8        6       24   \n",
       "\n",
       "   1/26/20  1/27/20  1/28/20  ...  2/29/20  3/1/20  3/2/20  3/3/20  3/4/20  \\\n",
       "0        0        0        0  ...        0       0       0       0       0   \n",
       "1        0        0        0  ...        0       0       0       1       0   \n",
       "2        0        0        0  ...        0       0       2       2       7   \n",
       "3        0        0        0  ...        0       0       1       0       0   \n",
       "4       21       10       36  ...        0       0       0       0       0   \n",
       "\n",
       "   3/5/20  3/6/20  3/7/20  3/8/20  place_id  \n",
       "0       0       0       0       3         2  \n",
       "1       0       0       1       0       425  \n",
       "2       0       5       0       2        67  \n",
       "3       0       0       0       0         7  \n",
       "4       0       0       0       0       316  \n",
       "\n",
       "[5 rows x 51 columns]"
      ]
     },
     "execution_count": 235,
     "metadata": {},
     "output_type": "execute_result"
    }
   ],
   "source": [
    "data_place.head()"
   ]
  },
  {
   "cell_type": "code",
   "execution_count": 236,
   "metadata": {},
   "outputs": [],
   "source": [
    "#data_place.loc[(data_place.iso == 'VEN'), :]"
   ]
  },
  {
   "cell_type": "code",
   "execution_count": 237,
   "metadata": {},
   "outputs": [],
   "source": [
    "date_cols = ['place_id', '1/22/20', '1/23/20', '1/24/20', '1/25/20', '1/26/20', '1/27/20', '1/28/20', '1/29/20', '1/30/20', '1/31/20', '2/1/20', \n",
    "             '2/2/20', '2/3/20', '2/4/20', '2/5/20', '2/6/20', '2/7/20', '2/8/20', '2/9/20', '2/10/20', '2/11/20',\n",
    "            '2/12/20', '2/13/20', '2/14/20', '2/15/20', '2/16/20', '2/17/20', '2/18/20', '2/19/20', '2/20/20',\n",
    "            '2/21/20', '2/22/20', '2/23/20', '2/24/20', '2/25/20', '2/26/20', '2/27/20', '2/28/20', '2/29/20',\n",
    "            '3/1/20', '3/2/20', '3/3/20', '3/4/20', '3/5/20', '3/6/20', '3/7/20', '3/8/20']\n",
    "\n",
    "monthly = data_place.loc[:, date_cols].set_index(['place_id']).stack().reset_index()\n",
    "\n",
    "monthly.columns = ['place_id', 'day', 'value']\n",
    "\n",
    "#monthly.head()"
   ]
  },
  {
   "cell_type": "code",
   "execution_count": 238,
   "metadata": {},
   "outputs": [
    {
     "data": {
      "text/html": [
       "<div>\n",
       "<style scoped>\n",
       "    .dataframe tbody tr th:only-of-type {\n",
       "        vertical-align: middle;\n",
       "    }\n",
       "\n",
       "    .dataframe tbody tr th {\n",
       "        vertical-align: top;\n",
       "    }\n",
       "\n",
       "    .dataframe thead th {\n",
       "        text-align: right;\n",
       "    }\n",
       "</style>\n",
       "<table border=\"1\" class=\"dataframe\">\n",
       "  <thead>\n",
       "    <tr style=\"text-align: right;\">\n",
       "      <th></th>\n",
       "      <th>place_id</th>\n",
       "      <th>day</th>\n",
       "      <th>value</th>\n",
       "    </tr>\n",
       "  </thead>\n",
       "  <tbody>\n",
       "    <tr>\n",
       "      <td>0</td>\n",
       "      <td>2</td>\n",
       "      <td>1/22/20</td>\n",
       "      <td>0</td>\n",
       "    </tr>\n",
       "    <tr>\n",
       "      <td>1</td>\n",
       "      <td>2</td>\n",
       "      <td>1/23/20</td>\n",
       "      <td>0</td>\n",
       "    </tr>\n",
       "    <tr>\n",
       "      <td>2</td>\n",
       "      <td>2</td>\n",
       "      <td>1/24/20</td>\n",
       "      <td>0</td>\n",
       "    </tr>\n",
       "    <tr>\n",
       "      <td>3</td>\n",
       "      <td>2</td>\n",
       "      <td>1/25/20</td>\n",
       "      <td>0</td>\n",
       "    </tr>\n",
       "    <tr>\n",
       "      <td>4</td>\n",
       "      <td>2</td>\n",
       "      <td>1/26/20</td>\n",
       "      <td>0</td>\n",
       "    </tr>\n",
       "  </tbody>\n",
       "</table>\n",
       "</div>"
      ],
      "text/plain": [
       "   place_id      day  value\n",
       "0         2  1/22/20      0\n",
       "1         2  1/23/20      0\n",
       "2         2  1/24/20      0\n",
       "3         2  1/25/20      0\n",
       "4         2  1/26/20      0"
      ]
     },
     "execution_count": 238,
     "metadata": {},
     "output_type": "execute_result"
    }
   ],
   "source": [
    "monthly.head()"
   ]
  },
  {
   "cell_type": "code",
   "execution_count": 239,
   "metadata": {},
   "outputs": [
    {
     "data": {
      "text/html": [
       "<div>\n",
       "<style scoped>\n",
       "    .dataframe tbody tr th:only-of-type {\n",
       "        vertical-align: middle;\n",
       "    }\n",
       "\n",
       "    .dataframe tbody tr th {\n",
       "        vertical-align: top;\n",
       "    }\n",
       "\n",
       "    .dataframe thead th {\n",
       "        text-align: right;\n",
       "    }\n",
       "</style>\n",
       "<table border=\"1\" class=\"dataframe\">\n",
       "  <thead>\n",
       "    <tr style=\"text-align: right;\">\n",
       "      <th></th>\n",
       "      <th>place_id</th>\n",
       "      <th>day</th>\n",
       "      <th>value</th>\n",
       "      <th>date</th>\n",
       "    </tr>\n",
       "  </thead>\n",
       "  <tbody>\n",
       "    <tr>\n",
       "      <td>0</td>\n",
       "      <td>2</td>\n",
       "      <td>1/22/20</td>\n",
       "      <td>0</td>\n",
       "      <td>2020-01-22</td>\n",
       "    </tr>\n",
       "    <tr>\n",
       "      <td>1</td>\n",
       "      <td>2</td>\n",
       "      <td>1/23/20</td>\n",
       "      <td>0</td>\n",
       "      <td>2020-01-23</td>\n",
       "    </tr>\n",
       "    <tr>\n",
       "      <td>2</td>\n",
       "      <td>2</td>\n",
       "      <td>1/24/20</td>\n",
       "      <td>0</td>\n",
       "      <td>2020-01-24</td>\n",
       "    </tr>\n",
       "    <tr>\n",
       "      <td>3</td>\n",
       "      <td>2</td>\n",
       "      <td>1/25/20</td>\n",
       "      <td>0</td>\n",
       "      <td>2020-01-25</td>\n",
       "    </tr>\n",
       "    <tr>\n",
       "      <td>4</td>\n",
       "      <td>2</td>\n",
       "      <td>1/26/20</td>\n",
       "      <td>0</td>\n",
       "      <td>2020-01-26</td>\n",
       "    </tr>\n",
       "  </tbody>\n",
       "</table>\n",
       "</div>"
      ],
      "text/plain": [
       "   place_id      day  value       date\n",
       "0         2  1/22/20      0 2020-01-22\n",
       "1         2  1/23/20      0 2020-01-23\n",
       "2         2  1/24/20      0 2020-01-24\n",
       "3         2  1/25/20      0 2020-01-25\n",
       "4         2  1/26/20      0 2020-01-26"
      ]
     },
     "execution_count": 239,
     "metadata": {},
     "output_type": "execute_result"
    }
   ],
   "source": [
    "monthly.loc[:, 'date'] = monthly.apply(lambda x: datetime.datetime.strptime(f\"{x['day']}\", \"%m/%d/%y\"), axis=1)\n",
    "\n",
    "monthly.head()"
   ]
  },
  {
   "cell_type": "code",
   "execution_count": 240,
   "metadata": {},
   "outputs": [],
   "source": [
    "dated = monthly.set_index('date').join(dt_df.loc[:,['dt_id', 'date']].set_index('date')).reset_index(drop=True)"
   ]
  },
  {
   "cell_type": "code",
   "execution_count": 241,
   "metadata": {},
   "outputs": [
    {
     "data": {
      "text/html": [
       "<div>\n",
       "<style scoped>\n",
       "    .dataframe tbody tr th:only-of-type {\n",
       "        vertical-align: middle;\n",
       "    }\n",
       "\n",
       "    .dataframe tbody tr th {\n",
       "        vertical-align: top;\n",
       "    }\n",
       "\n",
       "    .dataframe thead th {\n",
       "        text-align: right;\n",
       "    }\n",
       "</style>\n",
       "<table border=\"1\" class=\"dataframe\">\n",
       "  <thead>\n",
       "    <tr style=\"text-align: right;\">\n",
       "      <th></th>\n",
       "      <th>place_id</th>\n",
       "      <th>day</th>\n",
       "      <th>value</th>\n",
       "      <th>dt_id</th>\n",
       "    </tr>\n",
       "  </thead>\n",
       "  <tbody>\n",
       "    <tr>\n",
       "      <td>0</td>\n",
       "      <td>2</td>\n",
       "      <td>1/22/20</td>\n",
       "      <td>0</td>\n",
       "      <td>14632</td>\n",
       "    </tr>\n",
       "    <tr>\n",
       "      <td>1</td>\n",
       "      <td>425</td>\n",
       "      <td>1/22/20</td>\n",
       "      <td>0</td>\n",
       "      <td>14632</td>\n",
       "    </tr>\n",
       "    <tr>\n",
       "      <td>2</td>\n",
       "      <td>67</td>\n",
       "      <td>1/22/20</td>\n",
       "      <td>0</td>\n",
       "      <td>14632</td>\n",
       "    </tr>\n",
       "    <tr>\n",
       "      <td>3</td>\n",
       "      <td>7</td>\n",
       "      <td>1/22/20</td>\n",
       "      <td>0</td>\n",
       "      <td>14632</td>\n",
       "    </tr>\n",
       "    <tr>\n",
       "      <td>4</td>\n",
       "      <td>316</td>\n",
       "      <td>1/22/20</td>\n",
       "      <td>1</td>\n",
       "      <td>14632</td>\n",
       "    </tr>\n",
       "  </tbody>\n",
       "</table>\n",
       "</div>"
      ],
      "text/plain": [
       "   place_id      day  value  dt_id\n",
       "0         2  1/22/20      0  14632\n",
       "1       425  1/22/20      0  14632\n",
       "2        67  1/22/20      0  14632\n",
       "3         7  1/22/20      0  14632\n",
       "4       316  1/22/20      1  14632"
      ]
     },
     "execution_count": 241,
     "metadata": {},
     "output_type": "execute_result"
    }
   ],
   "source": [
    "dated.head()"
   ]
  },
  {
   "cell_type": "code",
   "execution_count": 242,
   "metadata": {},
   "outputs": [],
   "source": [
    "dated.loc[:, 'updated_at'] = datetime.datetime(2020, 3, 9) #.date()\n",
    "\n",
    "dated.loc[:, 'metric_id'] = metric_id\n",
    "dated.loc[:, 'data_source'] = data_source\n",
    "\n",
    "dated = dated.loc[:, ['metric_id', 'value', 'updated_at', 'data_source', 'place_id', 'dt_id']].rename(columns= {'dt_id': 'datetime_id'})\n",
    "\n",
    "dated.loc[:, 'updated_at'] = dated['updated_at'].dt.strftime('%Y-%m-%d')"
   ]
  },
  {
   "cell_type": "code",
   "execution_count": 243,
   "metadata": {},
   "outputs": [
    {
     "data": {
      "text/html": [
       "<div>\n",
       "<style scoped>\n",
       "    .dataframe tbody tr th:only-of-type {\n",
       "        vertical-align: middle;\n",
       "    }\n",
       "\n",
       "    .dataframe tbody tr th {\n",
       "        vertical-align: top;\n",
       "    }\n",
       "\n",
       "    .dataframe thead th {\n",
       "        text-align: right;\n",
       "    }\n",
       "</style>\n",
       "<table border=\"1\" class=\"dataframe\">\n",
       "  <thead>\n",
       "    <tr style=\"text-align: right;\">\n",
       "      <th></th>\n",
       "      <th>metric_id</th>\n",
       "      <th>value</th>\n",
       "      <th>updated_at</th>\n",
       "      <th>data_source</th>\n",
       "      <th>place_id</th>\n",
       "      <th>datetime_id</th>\n",
       "    </tr>\n",
       "  </thead>\n",
       "  <tbody>\n",
       "    <tr>\n",
       "      <td>0</td>\n",
       "      <td>25</td>\n",
       "      <td>0</td>\n",
       "      <td>2020-03-09</td>\n",
       "      <td>Johns Hopkins CSSE COVID-19 Data</td>\n",
       "      <td>2</td>\n",
       "      <td>14632</td>\n",
       "    </tr>\n",
       "    <tr>\n",
       "      <td>1</td>\n",
       "      <td>25</td>\n",
       "      <td>0</td>\n",
       "      <td>2020-03-09</td>\n",
       "      <td>Johns Hopkins CSSE COVID-19 Data</td>\n",
       "      <td>425</td>\n",
       "      <td>14632</td>\n",
       "    </tr>\n",
       "    <tr>\n",
       "      <td>2</td>\n",
       "      <td>25</td>\n",
       "      <td>0</td>\n",
       "      <td>2020-03-09</td>\n",
       "      <td>Johns Hopkins CSSE COVID-19 Data</td>\n",
       "      <td>67</td>\n",
       "      <td>14632</td>\n",
       "    </tr>\n",
       "    <tr>\n",
       "      <td>3</td>\n",
       "      <td>25</td>\n",
       "      <td>0</td>\n",
       "      <td>2020-03-09</td>\n",
       "      <td>Johns Hopkins CSSE COVID-19 Data</td>\n",
       "      <td>7</td>\n",
       "      <td>14632</td>\n",
       "    </tr>\n",
       "    <tr>\n",
       "      <td>4</td>\n",
       "      <td>25</td>\n",
       "      <td>1</td>\n",
       "      <td>2020-03-09</td>\n",
       "      <td>Johns Hopkins CSSE COVID-19 Data</td>\n",
       "      <td>316</td>\n",
       "      <td>14632</td>\n",
       "    </tr>\n",
       "  </tbody>\n",
       "</table>\n",
       "</div>"
      ],
      "text/plain": [
       "   metric_id  value  updated_at                       data_source  place_id  \\\n",
       "0         25      0  2020-03-09  Johns Hopkins CSSE COVID-19 Data         2   \n",
       "1         25      0  2020-03-09  Johns Hopkins CSSE COVID-19 Data       425   \n",
       "2         25      0  2020-03-09  Johns Hopkins CSSE COVID-19 Data        67   \n",
       "3         25      0  2020-03-09  Johns Hopkins CSSE COVID-19 Data         7   \n",
       "4         25      1  2020-03-09  Johns Hopkins CSSE COVID-19 Data       316   \n",
       "\n",
       "   datetime_id  \n",
       "0        14632  \n",
       "1        14632  \n",
       "2        14632  \n",
       "3        14632  \n",
       "4        14632  "
      ]
     },
     "execution_count": 243,
     "metadata": {},
     "output_type": "execute_result"
    }
   ],
   "source": [
    "dated.head()"
   ]
  },
  {
   "cell_type": "code",
   "execution_count": 244,
   "metadata": {},
   "outputs": [
    {
     "name": "stdout",
     "output_type": "stream",
     "text": [
      "Went from 12643 to 12643 rows, excluded 0 rows\n"
     ]
    }
   ],
   "source": [
    "pre_excluded = dated.shape[0]\n",
    "dated_excluded = exclude(dated, exclusion_list)\n",
    "print(f\"Went from {pre_excluded} to {dated_excluded.shape[0]} rows, excluded {pre_excluded - dated_excluded.shape[0]} rows\")"
   ]
  },
  {
   "cell_type": "code",
   "execution_count": 245,
   "metadata": {},
   "outputs": [],
   "source": [
    "row_list = tuple(tuple(row) for row in dated_excluded.to_numpy())"
   ]
  },
  {
   "cell_type": "code",
   "execution_count": 246,
   "metadata": {},
   "outputs": [
    {
     "data": {
      "text/plain": [
       "((25, 0, '2020-03-09', 'Johns Hopkins CSSE COVID-19 Data', 2, 14632),\n",
       " (25, 0, '2020-03-09', 'Johns Hopkins CSSE COVID-19 Data', 425, 14632),\n",
       " (25, 0, '2020-03-09', 'Johns Hopkins CSSE COVID-19 Data', 67, 14632),\n",
       " (25, 0, '2020-03-09', 'Johns Hopkins CSSE COVID-19 Data', 7, 14632),\n",
       " (25, 1, '2020-03-09', 'Johns Hopkins CSSE COVID-19 Data', 316, 14632))"
      ]
     },
     "execution_count": 246,
     "metadata": {},
     "output_type": "execute_result"
    }
   ],
   "source": [
    "row_list[0:5]"
   ]
  },
  {
   "cell_type": "code",
   "execution_count": 247,
   "metadata": {},
   "outputs": [
    {
     "data": {
      "text/plain": [
       "12643"
      ]
     },
     "execution_count": 247,
     "metadata": {},
     "output_type": "execute_result"
    }
   ],
   "source": [
    "len(row_list)"
   ]
  },
  {
   "cell_type": "code",
   "execution_count": 248,
   "metadata": {},
   "outputs": [],
   "source": [
    "test_q = \"\"\"\n",
    "INSERT INTO observation (\n",
    "    metric_id,\n",
    "    value,\n",
    "    updated_at,\n",
    "    data_source,\n",
    "    place_id,\n",
    "    datetime_id\n",
    ")\n",
    "VALUES (\n",
    "    %s,\n",
    "    %s,\n",
    "    %s,\n",
    "    %s,\n",
    "    %s,\n",
    "    %s\n",
    ")\n",
    "ON CONFLICT \n",
    "ON CONSTRAINT observation_metric_id_place_id_datetime_id_key\n",
    "DO UPDATE SET (value, updated_at) = (EXCLUDED.value, EXCLUDED.updated_at);\n",
    "\"\"\""
   ]
  },
  {
   "cell_type": "code",
   "execution_count": 249,
   "metadata": {},
   "outputs": [
    {
     "data": {
      "text/plain": [
       "'metric'"
      ]
     },
     "execution_count": 249,
     "metadata": {},
     "output_type": "execute_result"
    }
   ],
   "source": [
    "db_name"
   ]
  },
  {
   "cell_type": "code",
   "execution_count": 250,
   "metadata": {},
   "outputs": [
    {
     "data": {
      "text/plain": [
       "'talus-dev.cvsrrvlopzxr.us-west-1.rds.amazonaws.com'"
      ]
     },
     "execution_count": 250,
     "metadata": {},
     "output_type": "execute_result"
    }
   ],
   "source": [
    "rds_secret['host']"
   ]
  },
  {
   "cell_type": "code",
   "execution_count": 251,
   "metadata": {},
   "outputs": [],
   "source": [
    "# Open a cursor to perform database operations\n",
    "connection_string = f\"host={rds_secret['host']} dbname={db_name} user={rds_secret['username']} password={rds_secret['password']}\"\n",
    "\n",
    "conn = psycopg2.connect(connection_string)\n",
    "cur = conn.cursor()"
   ]
  },
  {
   "cell_type": "code",
   "execution_count": 252,
   "metadata": {},
   "outputs": [],
   "source": [
    "execute_batch(cur, test_q, row_list)"
   ]
  },
  {
   "cell_type": "code",
   "execution_count": 253,
   "metadata": {},
   "outputs": [],
   "source": [
    "#for row in row_list:\n",
    "    #print(row)\n",
    "    #cur.execute(test_q, row)"
   ]
  },
  {
   "cell_type": "code",
   "execution_count": 254,
   "metadata": {},
   "outputs": [],
   "source": [
    "conn.commit()"
   ]
  },
  {
   "cell_type": "code",
   "execution_count": null,
   "metadata": {},
   "outputs": [],
   "source": []
  }
 ],
 "metadata": {
  "kernelspec": {
   "display_name": "Python 3",
   "language": "python",
   "name": "python3"
  },
  "language_info": {
   "codemirror_mode": {
    "name": "ipython",
    "version": 3
   },
   "file_extension": ".py",
   "mimetype": "text/x-python",
   "name": "python",
   "nbconvert_exporter": "python",
   "pygments_lexer": "ipython3",
   "version": "3.7.4"
  }
 },
 "nbformat": 4,
 "nbformat_minor": 4
}
